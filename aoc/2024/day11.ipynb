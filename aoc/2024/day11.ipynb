{
 "cells": [
  {
   "cell_type": "code",
   "execution_count": 4,
   "metadata": {},
   "outputs": [],
   "source": [
    "%load_ext autoreload\n",
    "%autoreload 2\n",
    "\"\"\"https://adventofcode.com/2024/day/11\"\"\"\n",
    "\n",
    "from aoc_utils import fetch_input_data\n",
    "import logging\n",
    "logging.basicConfig(level=logging.INFO)\n",
    "# logging.basicConfig(level=logging.DEBUG)\n",
    "from itertools import product\n",
    "\n",
    "logger = logging.getLogger(__name__)\n",
    "actual_input = fetch_input_data(2024, 11)\n",
    "test_input_1 = \"0 1 10 99 999\"\n",
    "test_input_2 = \"125 17\""
   ]
  },
  {
   "cell_type": "code",
   "execution_count": null,
   "metadata": {},
   "outputs": [
    {
     "name": "stdout",
     "output_type": "stream",
     "text": [
      "Part 1: 233875\n"
     ]
    }
   ],
   "source": [
    "def change_stone(stone: str) -> str:\n",
    "    if stone == \"0\":\n",
    "        return \"1\"\n",
    "    elif len(stone) % 2 == 0:\n",
    "        first_half = int(stone[:len(stone)//2])\n",
    "        second_half = int(stone[len(stone)//2:])\n",
    "        return f\"{first_half} {second_half}\"\n",
    "    else:\n",
    "        return str(int(stone) * 2024)\n",
    "    \n",
    "def change_stones(inputs: str) -> str:\n",
    "    return \" \".join([\n",
    "        change_stone(stone) \n",
    "        for stone in inputs.split()\n",
    "        ])\n",
    "\n",
    "def change_stones_n_times(inputs: str, n: int) -> str:\n",
    "    for _ in range(n):\n",
    "        inputs = change_stones(inputs)\n",
    "    return inputs\n",
    "\n",
    "assert change_stones_n_times(test_input_1, 1) == '1 2024 1 0 9 9 2021976'\n",
    "assert change_stones_n_times(test_input_2, 6) == \"2097446912 14168 4048 2 0 2 4 40 48 2024 40 48 80 96 2 8 6 7 6 0 3 2\"\n",
    "assert len(change_stones_n_times(test_input_2, 6).split(\" \")) == 22\n",
    "assert len(change_stones_n_times(test_input_2, 25).split(\" \")) == 55312\n",
    "stone_configuration = change_stones_n_times(actual_input.strip(), 25)\n",
    "n_stones = len(stone_configuration.split(\" \"))\n",
    "print(\"Part 1:\", n_stones)"
   ]
  },
  {
   "cell_type": "code",
   "execution_count": null,
   "metadata": {},
   "outputs": [
    {
     "ename": "NameError",
     "evalue": "name 'part1_count' is not defined",
     "output_type": "error",
     "traceback": [
      "\u001b[1;31m---------------------------------------------------------------------------\u001b[0m",
      "\u001b[1;31mNameError\u001b[0m                                 Traceback (most recent call last)",
      "Cell \u001b[1;32mIn[26], line 45\u001b[0m\n\u001b[0;32m     42\u001b[0m test_input_2 \u001b[38;5;241m=\u001b[39m \u001b[38;5;124m\"\u001b[39m\u001b[38;5;124m125 17\u001b[39m\u001b[38;5;124m\"\u001b[39m\n\u001b[0;32m     44\u001b[0m \u001b[38;5;66;03m# Part 1\u001b[39;00m\n\u001b[1;32m---> 45\u001b[0m n_stones \u001b[38;5;241m=\u001b[39m \u001b[43mchange_stones_n_times\u001b[49m\u001b[43m(\u001b[49m\u001b[43mactual_input\u001b[49m\u001b[38;5;241;43m.\u001b[39;49m\u001b[43mstrip\u001b[49m\u001b[43m(\u001b[49m\u001b[43m)\u001b[49m\u001b[43m,\u001b[49m\u001b[43m \u001b[49m\u001b[38;5;241;43m25\u001b[39;49m\u001b[43m)\u001b[49m\n\u001b[0;32m     46\u001b[0m \u001b[38;5;28mprint\u001b[39m(\u001b[38;5;124m\"\u001b[39m\u001b[38;5;124mPart 1:\u001b[39m\u001b[38;5;124m\"\u001b[39m, n_stones)\n\u001b[0;32m     48\u001b[0m \u001b[38;5;66;03m# Part 2\u001b[39;00m\n",
      "Cell \u001b[1;32mIn[26], line 38\u001b[0m, in \u001b[0;36mchange_stones_n_times\u001b[1;34m(inputs, n)\u001b[0m\n\u001b[0;32m     34\u001b[0m         \u001b[38;5;28;01mif\u001b[39;00m stone_counts[stone] \u001b[38;5;241m==\u001b[39m \u001b[38;5;241m0\u001b[39m:\n\u001b[0;32m     35\u001b[0m             stone_counts\u001b[38;5;241m.\u001b[39mpop(stone)\n\u001b[1;32m---> 38\u001b[0m \u001b[38;5;28;01mreturn\u001b[39;00m \u001b[43mpart1_count\u001b[49m \u001b[38;5;28;01mif\u001b[39;00m n \u001b[38;5;241m==\u001b[39m \u001b[38;5;241m25\u001b[39m \u001b[38;5;28;01melse\u001b[39;00m \u001b[38;5;28msum\u001b[39m(stone_counts\u001b[38;5;241m.\u001b[39mvalues())\n",
      "\u001b[1;31mNameError\u001b[0m: name 'part1_count' is not defined"
     ]
    }
   ],
   "source": [
    "from collections import defaultdict\n",
    "\n",
    "def update_stone_counts(stone_counts: defaultdict) -> defaultdict:\n",
    "    updates = defaultdict(int)\n",
    "    \n",
    "    for stone, count in stone_counts.items():\n",
    "        stone_str = str(stone)\n",
    "        # Remove current stones\n",
    "        updates[stone] -= count\n",
    "        \n",
    "        # Add new stones based on rules\n",
    "        if stone == 0:\n",
    "            updates[1] += count\n",
    "        elif len(stone_str) % 2 == 0:\n",
    "            first_half = int(stone_str[:len(stone_str)//2])\n",
    "            second_half = int(stone_str[len(stone_str)//2:])\n",
    "            updates[first_half] += count\n",
    "            updates[second_half] += count\n",
    "        else:\n",
    "            updates[stone * 2024] += count\n",
    "            \n",
    "    return updates\n",
    "\n",
    "def change_stones_n_times(inputs: str, n: int) -> int:\n",
    "    stone_counts = defaultdict(int)\n",
    "    for stone in inputs.split():\n",
    "        stone_counts[int(stone)] += 1\n",
    "    \n",
    "    for i in range(n):\n",
    "        # Apply all updates from this iteration\n",
    "        updates = update_stone_counts(stone_counts)\n",
    "        for stone, count in updates.items():\n",
    "            stone_counts[stone] += count\n",
    "            if stone_counts[stone] == 0:\n",
    "                stone_counts.pop(stone)\n",
    "                \n",
    "            \n",
    "    return  sum(stone_counts.values())\n",
    "\n",
    "\n",
    "test_input_1 = \"0 1 10 99 999\"\n",
    "test_input_2 = \"125 17\"\n",
    "\n",
    "# Part 1\n",
    "n_stones = change_stones_n_times(actual_input.strip(), 25)\n",
    "print(\"Part 1:\", n_stones)\n",
    "\n",
    "# Part 2\n",
    "n_stones = change_stones_n_times(actual_input.strip(), 75)\n",
    "print(\"Part 2:\", n_stones)\n"
   ]
  },
  {
   "cell_type": "code",
   "execution_count": 12,
   "metadata": {},
   "outputs": [
    {
     "ename": "KeyboardInterrupt",
     "evalue": "",
     "output_type": "error",
     "traceback": [
      "\u001b[1;31m---------------------------------------------------------------------------\u001b[0m",
      "\u001b[1;31mKeyboardInterrupt\u001b[0m                         Traceback (most recent call last)",
      "Cell \u001b[1;32mIn[12], line 1\u001b[0m\n\u001b[1;32m----> 1\u001b[0m \u001b[43mchange_stones_n_times\u001b[49m\u001b[43m(\u001b[49m\u001b[38;5;124;43m\"\u001b[39;49m\u001b[38;5;124;43m337\u001b[39;49m\u001b[38;5;124;43m\"\u001b[39;49m\u001b[43m,\u001b[49m\u001b[43m \u001b[49m\u001b[38;5;241;43m75\u001b[39;49m\u001b[43m)\u001b[49m\n",
      "Cell \u001b[1;32mIn[5], line 19\u001b[0m, in \u001b[0;36mchange_stones_n_times\u001b[1;34m(inputs, n)\u001b[0m\n\u001b[0;32m     17\u001b[0m \u001b[38;5;28;01mdef\u001b[39;00m \u001b[38;5;21mchange_stones_n_times\u001b[39m(inputs: \u001b[38;5;28mstr\u001b[39m, n: \u001b[38;5;28mint\u001b[39m) \u001b[38;5;241m-\u001b[39m\u001b[38;5;241m>\u001b[39m \u001b[38;5;28mstr\u001b[39m:\n\u001b[0;32m     18\u001b[0m     \u001b[38;5;28;01mfor\u001b[39;00m _ \u001b[38;5;129;01min\u001b[39;00m \u001b[38;5;28mrange\u001b[39m(n):\n\u001b[1;32m---> 19\u001b[0m         inputs \u001b[38;5;241m=\u001b[39m \u001b[43mchange_stones\u001b[49m\u001b[43m(\u001b[49m\u001b[43minputs\u001b[49m\u001b[43m)\u001b[49m\n\u001b[0;32m     20\u001b[0m     \u001b[38;5;28;01mreturn\u001b[39;00m inputs\n",
      "Cell \u001b[1;32mIn[5], line 12\u001b[0m, in \u001b[0;36mchange_stones\u001b[1;34m(inputs)\u001b[0m\n\u001b[0;32m     11\u001b[0m \u001b[38;5;28;01mdef\u001b[39;00m \u001b[38;5;21mchange_stones\u001b[39m(inputs: \u001b[38;5;28mstr\u001b[39m) \u001b[38;5;241m-\u001b[39m\u001b[38;5;241m>\u001b[39m \u001b[38;5;28mstr\u001b[39m:\n\u001b[1;32m---> 12\u001b[0m     \u001b[38;5;28;01mreturn\u001b[39;00m \u001b[38;5;124m\"\u001b[39m\u001b[38;5;124m \u001b[39m\u001b[38;5;124m\"\u001b[39m\u001b[38;5;241m.\u001b[39mjoin([\n\u001b[0;32m     13\u001b[0m         change_stone(stone) \n\u001b[0;32m     14\u001b[0m         \u001b[38;5;28;01mfor\u001b[39;00m stone \u001b[38;5;129;01min\u001b[39;00m inputs\u001b[38;5;241m.\u001b[39msplit(\u001b[38;5;124m\"\u001b[39m\u001b[38;5;124m \u001b[39m\u001b[38;5;124m\"\u001b[39m)\n\u001b[0;32m     15\u001b[0m         ])\n",
      "Cell \u001b[1;32mIn[5], line 13\u001b[0m, in \u001b[0;36m<listcomp>\u001b[1;34m(.0)\u001b[0m\n\u001b[0;32m     11\u001b[0m \u001b[38;5;28;01mdef\u001b[39;00m \u001b[38;5;21mchange_stones\u001b[39m(inputs: \u001b[38;5;28mstr\u001b[39m) \u001b[38;5;241m-\u001b[39m\u001b[38;5;241m>\u001b[39m \u001b[38;5;28mstr\u001b[39m:\n\u001b[0;32m     12\u001b[0m     \u001b[38;5;28;01mreturn\u001b[39;00m \u001b[38;5;124m\"\u001b[39m\u001b[38;5;124m \u001b[39m\u001b[38;5;124m\"\u001b[39m\u001b[38;5;241m.\u001b[39mjoin([\n\u001b[1;32m---> 13\u001b[0m         \u001b[43mchange_stone\u001b[49m\u001b[43m(\u001b[49m\u001b[43mstone\u001b[49m\u001b[43m)\u001b[49m \n\u001b[0;32m     14\u001b[0m         \u001b[38;5;28;01mfor\u001b[39;00m stone \u001b[38;5;129;01min\u001b[39;00m inputs\u001b[38;5;241m.\u001b[39msplit(\u001b[38;5;124m\"\u001b[39m\u001b[38;5;124m \u001b[39m\u001b[38;5;124m\"\u001b[39m)\n\u001b[0;32m     15\u001b[0m         ])\n",
      "Cell \u001b[1;32mIn[5], line 2\u001b[0m, in \u001b[0;36mchange_stone\u001b[1;34m(stone)\u001b[0m\n\u001b[0;32m      1\u001b[0m \u001b[38;5;28;01mdef\u001b[39;00m \u001b[38;5;21mchange_stone\u001b[39m(stone: \u001b[38;5;28mstr\u001b[39m) \u001b[38;5;241m-\u001b[39m\u001b[38;5;241m>\u001b[39m \u001b[38;5;28mstr\u001b[39m:\n\u001b[1;32m----> 2\u001b[0m     \u001b[38;5;28;01mif\u001b[39;00m \u001b[43mstone\u001b[49m\u001b[43m \u001b[49m\u001b[38;5;241;43m==\u001b[39;49m\u001b[43m \u001b[49m\u001b[38;5;124;43m\"\u001b[39;49m\u001b[38;5;124;43m0\u001b[39;49m\u001b[38;5;124;43m\"\u001b[39;49m:\n\u001b[0;32m      3\u001b[0m         \u001b[38;5;28;01mreturn\u001b[39;00m \u001b[38;5;124m\"\u001b[39m\u001b[38;5;124m1\u001b[39m\u001b[38;5;124m\"\u001b[39m\n\u001b[0;32m      4\u001b[0m     \u001b[38;5;28;01melif\u001b[39;00m \u001b[38;5;28mlen\u001b[39m(stone) \u001b[38;5;241m%\u001b[39m \u001b[38;5;241m2\u001b[39m \u001b[38;5;241m==\u001b[39m \u001b[38;5;241m0\u001b[39m:\n",
      "\u001b[1;31mKeyboardInterrupt\u001b[0m: "
     ]
    }
   ],
   "source": [
    "change_stones_n_times(\"337\", 75)"
   ]
  },
  {
   "cell_type": "code",
   "execution_count": null,
   "metadata": {},
   "outputs": [],
   "source": [
    "change_stones_n_times(test_input_1, 1)"
   ]
  },
  {
   "cell_type": "code",
   "execution_count": 9,
   "metadata": {},
   "outputs": [
    {
     "data": {
      "text/plain": [
       "'337 42493 1891760 351136 2 6932 73 0\\n'"
      ]
     },
     "execution_count": 9,
     "metadata": {},
     "output_type": "execute_result"
    }
   ],
   "source": [
    "actual_input"
   ]
  },
  {
   "cell_type": "code",
   "execution_count": 21,
   "metadata": {},
   "outputs": [
    {
     "name": "stdout",
     "output_type": "stream",
     "text": [
      "233875\n",
      "277444936413293\n"
     ]
    }
   ],
   "source": [
    "from collections import defaultdict\n",
    "\n",
    "nums = list(map(int, actual_input.split()))\n",
    "input = defaultdict(int)\n",
    "for num in nums: input[num] += 1\n",
    "\n",
    "for i in range(75): \n",
    "    if i == 25: print(sum(input.values()))\n",
    "    updates = defaultdict(int)\n",
    "\n",
    "    for k, v in input.items():\n",
    "        s = str(k)\n",
    "        updates[k] -= v\n",
    "\n",
    "        if k == 0: \n",
    "            updates[1] += v\n",
    "        elif len(s) % 2 == 0:\n",
    "            l, r = s[:len(s)//2], s[len(s)//2:]\n",
    "            updates[int(l)] += v\n",
    "            updates[int(r)] += v\n",
    "        else: \n",
    "            updates[k*2024] += v\n",
    "\n",
    "    for k, v in updates.items():\n",
    "        input[k] += v\n",
    "        if input[k] == 0: input.pop(k)\n",
    "    \n",
    "print(sum(input.values()))"
   ]
  },
  {
   "cell_type": "code",
   "execution_count": 19,
   "metadata": {},
   "outputs": [
    {
     "data": {
      "text/plain": [
       "114636650"
      ]
     },
     "execution_count": 19,
     "metadata": {},
     "output_type": "execute_result"
    }
   ],
   "source": [
    "sum(input_dict.values())"
   ]
  },
  {
   "cell_type": "code",
   "execution_count": null,
   "metadata": {},
   "outputs": [],
   "source": [
    "# Part 2\n",
    "print(simulate_blinks_optimized(initial_stones, 75))"
   ]
  },
  {
   "cell_type": "code",
   "execution_count": 8,
   "metadata": {},
   "outputs": [
    {
     "name": "stdout",
     "output_type": "stream",
     "text": [
      "Processing chunk 1, starting with 8 stones\n"
     ]
    },
    {
     "ename": "",
     "evalue": "",
     "output_type": "error",
     "traceback": [
      "\u001b[1;31mThe Kernel crashed while executing code in the current cell or a previous cell. \n",
      "\u001b[1;31mPlease review the code in the cell(s) to identify a possible cause of the failure. \n",
      "\u001b[1;31mClick <a href='https://aka.ms/vscodeJupyterKernelCrash'>here</a> for more info. \n",
      "\u001b[1;31mView Jupyter <a href='command:jupyter.viewOutput'>log</a> for further details."
     ]
    }
   ],
   "source": [
    "# Test with different numbers of processes\n",
    "# You might want to adjust these based on your CPU\n",
    "result = solve_part2_parallel(actual_input, \n",
    "                            total_steps=25, \n",
    "                            chunk_size=15, \n",
    "                            n_processes=8)  # Adjust based on your CPU cores\n",
    "print(f\"\\nFinal result after 75 steps: {result} stones\")"
   ]
  },
  {
   "cell_type": "code",
   "execution_count": null,
   "metadata": {},
   "outputs": [],
   "source": [
    "result = solve_part2_parallel(actual_input, \n",
    "                            total_steps=75, \n",
    "                            chunk_size=15, \n",
    "                            n_processes=8)  # Adjust based on your CPU cores\n",
    "print(f\"\\nFinal result after 75 steps: {result} stones\")"
   ]
  }
 ],
 "metadata": {
  "kernelspec": {
   "display_name": "aoc",
   "language": "python",
   "name": "python3"
  },
  "language_info": {
   "codemirror_mode": {
    "name": "ipython",
    "version": 3
   },
   "file_extension": ".py",
   "mimetype": "text/x-python",
   "name": "python",
   "nbconvert_exporter": "python",
   "pygments_lexer": "ipython3",
   "version": "3.10.15"
  }
 },
 "nbformat": 4,
 "nbformat_minor": 2
}
