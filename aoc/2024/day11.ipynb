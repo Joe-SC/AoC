{
 "cells": [
  {
   "cell_type": "code",
   "execution_count": 4,
   "metadata": {},
   "outputs": [],
   "source": [
    "%load_ext autoreload\n",
    "%autoreload 2\n",
    "\"\"\"https://adventofcode.com/2024/day/11\"\"\"\n",
    "\n",
    "from aoc_utils import fetch_input_data\n",
    "import logging\n",
    "logging.basicConfig(level=logging.INFO)\n",
    "# logging.basicConfig(level=logging.DEBUG)\n",
    "from itertools import product\n",
    "\n",
    "logger = logging.getLogger(__name__)\n",
    "actual_input = fetch_input_data(2024, 11)\n",
    "test_input_1 = \"0 1 10 99 999\"\n",
    "test_input_2 = \"125 17\""
   ]
  },
  {
   "cell_type": "code",
   "execution_count": null,
   "metadata": {},
   "outputs": [
    {
     "name": "stdout",
     "output_type": "stream",
     "text": [
      "Part 1: 233875\n"
     ]
    }
   ],
   "source": [
    "def change_stone(stone: str) -> str:\n",
    "    if stone == \"0\":\n",
    "        return \"1\"\n",
    "    elif len(stone) % 2 == 0:\n",
    "        first_half = int(stone[:len(stone)//2])\n",
    "        second_half = int(stone[len(stone)//2:])\n",
    "        return f\"{first_half} {second_half}\"\n",
    "    else:\n",
    "        return str(int(stone) * 2024)\n",
    "    \n",
    "def change_stones(inputs: str) -> str:\n",
    "    return \" \".join([\n",
    "        change_stone(stone) \n",
    "        for stone in inputs.split()\n",
    "        ])\n",
    "\n",
    "def change_stones_n_times(inputs: str, n: int) -> str:\n",
    "    for _ in range(n):\n",
    "        inputs = change_stones(inputs)\n",
    "    return inputs\n",
    "\n",
    "assert change_stones_n_times(test_input_1, 1) == '1 2024 1 0 9 9 2021976'\n",
    "assert change_stones_n_times(test_input_2, 6) == \"2097446912 14168 4048 2 0 2 4 40 48 2024 40 48 80 96 2 8 6 7 6 0 3 2\"\n",
    "assert len(change_stones_n_times(test_input_2, 6).split(\" \")) == 22\n",
    "assert len(change_stones_n_times(test_input_2, 25).split(\" \")) == 55312\n",
    "stone_configuration = change_stones_n_times(actual_input.strip(), 25)\n",
    "n_stones = len(stone_configuration.split(\" \"))\n",
    "print(\"Part 1:\", n_stones)"
   ]
  },
  {
   "cell_type": "code",
   "execution_count": 29,
   "metadata": {},
   "outputs": [
    {
     "name": "stdout",
     "output_type": "stream",
     "text": [
      "Part 1: 233875\n",
      "Part 2: 277444936413293\n"
     ]
    }
   ],
   "source": [
    "from collections import defaultdict\n",
    "\n",
    "def update_stones(curr_stones: defaultdict) -> defaultdict:\n",
    "   \"\"\"Return a dictionary of changes to make: {stone_value: change_in_count}\"\"\"\n",
    "   changes = defaultdict(int)\n",
    "   \n",
    "   for val, count in curr_stones.items():\n",
    "       # Remove all stones of this value\n",
    "       changes[val] -= count\n",
    "       \n",
    "       # Add new stones based on rules\n",
    "       if val == 0:\n",
    "           changes[1] += count\n",
    "       elif len(str(val)) % 2 == 0:\n",
    "           left = int(str(val)[:len(str(val))//2])\n",
    "           right = int(str(val)[len(str(val))//2:])\n",
    "           changes[left] += count\n",
    "           changes[right] += count\n",
    "       else:\n",
    "           new_val = val * 2024\n",
    "           changes[new_val] += count\n",
    "           \n",
    "   return changes\n",
    "\n",
    "def change_stones_n_times(inputs: str, n: int) -> int:\n",
    "   # Start by counting how many of each stone value we have\n",
    "   curr_stones = defaultdict(int)\n",
    "   for stone in inputs.split():\n",
    "       curr_stones[int(stone)] += 1\n",
    "   \n",
    "   for _ in range(n):\n",
    "       # Get and apply all changes for this iteration\n",
    "       changes = update_stones(curr_stones)\n",
    "       for val, change in changes.items():\n",
    "           curr_stones[val] += change\n",
    "           if curr_stones[val] == 0:\n",
    "               curr_stones.pop(val)\n",
    "               \n",
    "   return sum(curr_stones.values())\n",
    "\n",
    "# Test cases\n",
    "test_input_1 = \"0 1 10 99 999\"\n",
    "test_input_2 = \"125 17\"\n",
    "\n",
    "# Part 1\n",
    "n_stones = change_stones_n_times(actual_input.strip(), 25)\n",
    "print(\"Part 1:\", n_stones)\n",
    "\n",
    "# Part 2\n",
    "n_stones = change_stones_n_times(actual_input.strip(), 75)\n",
    "print(\"Part 2:\", n_stones)"
   ]
  },
  {
   "cell_type": "code",
   "execution_count": 30,
   "metadata": {},
   "outputs": [
    {
     "name": "stdout",
     "output_type": "stream",
     "text": [
      "Part 2: 277444936413293\n"
     ]
    }
   ],
   "source": [
    "print(\"Part 2:\", n_stones)"
   ]
  },
  {
   "cell_type": "code",
   "execution_count": null,
   "metadata": {},
   "outputs": [],
   "source": [
    "change_stones_n_times(test_input_1, 1)"
   ]
  },
  {
   "cell_type": "code",
   "execution_count": null,
   "metadata": {},
   "outputs": [],
   "source": []
  },
  {
   "cell_type": "code",
   "execution_count": 9,
   "metadata": {},
   "outputs": [
    {
     "data": {
      "text/plain": [
       "'337 42493 1891760 351136 2 6932 73 0\\n'"
      ]
     },
     "execution_count": 9,
     "metadata": {},
     "output_type": "execute_result"
    }
   ],
   "source": [
    "actual_input"
   ]
  },
  {
   "cell_type": "code",
   "execution_count": 21,
   "metadata": {},
   "outputs": [
    {
     "name": "stdout",
     "output_type": "stream",
     "text": [
      "233875\n",
      "277444936413293\n"
     ]
    }
   ],
   "source": [
    "from collections import defaultdict\n",
    "\n",
    "nums = list(map(int, actual_input.split()))\n",
    "input = defaultdict(int)\n",
    "for num in nums: input[num] += 1\n",
    "\n",
    "for i in range(75): \n",
    "    if i == 25: print(sum(input.values()))\n",
    "    updates = defaultdict(int)\n",
    "\n",
    "    for k, v in input.items():\n",
    "        s = str(k)\n",
    "        updates[k] -= v\n",
    "\n",
    "        if k == 0: \n",
    "            updates[1] += v\n",
    "        elif len(s) % 2 == 0:\n",
    "            l, r = s[:len(s)//2], s[len(s)//2:]\n",
    "            updates[int(l)] += v\n",
    "            updates[int(r)] += v\n",
    "        else: \n",
    "            updates[k*2024] += v\n",
    "\n",
    "    for k, v in updates.items():\n",
    "        input[k] += v\n",
    "        if input[k] == 0: input.pop(k)\n",
    "    \n",
    "print(sum(input.values()))"
   ]
  }
 ],
 "metadata": {
  "kernelspec": {
   "display_name": "aoc",
   "language": "python",
   "name": "python3"
  },
  "language_info": {
   "codemirror_mode": {
    "name": "ipython",
    "version": 3
   },
   "file_extension": ".py",
   "mimetype": "text/x-python",
   "name": "python",
   "nbconvert_exporter": "python",
   "pygments_lexer": "ipython3",
   "version": "3.10.15"
  }
 },
 "nbformat": 4,
 "nbformat_minor": 2
}
