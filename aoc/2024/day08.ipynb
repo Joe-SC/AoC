{
 "cells": [
  {
   "cell_type": "code",
   "execution_count": 39,
   "metadata": {},
   "outputs": [
    {
     "name": "stdout",
     "output_type": "stream",
     "text": [
      "The autoreload extension is already loaded. To reload it, use:\n",
      "  %reload_ext autoreload\n"
     ]
    }
   ],
   "source": [
    "%load_ext autoreload\n",
    "%autoreload 2\n",
    "\"\"\"https://adventofcode.com/2024/day/8\"\"\"\n",
    "\n",
    "from aoc_utils import fetch_input_data\n",
    "import logging\n",
    "logging.basicConfig(level=logging.INFO)\n",
    "# logging.basicConfig(level=logging.DEBUG)\n",
    "from itertools import product\n",
    "\n",
    "logger = logging.getLogger(__name__)\n",
    "actual_input = fetch_input_data(2024, 8)\n",
    "sample_input = \"\"\"\\\n",
    "............\n",
    "........0...\n",
    ".....0......\n",
    ".......0....\n",
    "....0.......\n",
    "......A.....\n",
    "............\n",
    "............\n",
    "........A...\n",
    ".........A..\n",
    "............\n",
    "............\\\n",
    "\"\"\"\n",
    "\n",
    "# sample_input = \"\"\"\\\n",
    "# ..........\n",
    "# ..........\n",
    "# ..........\n",
    "# ....a.....\n",
    "# ..........\n",
    "# .....a....\n",
    "# ..........\n",
    "# ..........\n",
    "# ..........\n",
    "# ..........\\\n",
    "# \"\"\"\n",
    "\n",
    "# sample_input = \"\"\"\\\n",
    "# T.........\n",
    "# ...T......\n",
    "# .T........\n",
    "# ..........\n",
    "# ..........\n",
    "# ..........\n",
    "# ..........\n",
    "# ..........\n",
    "# ..........\n",
    "# ..........\\\n",
    "# \"\"\""
   ]
  },
  {
   "cell_type": "code",
   "execution_count": null,
   "metadata": {},
   "outputs": [],
   "source": [
    "from itertools import product\n",
    "import copy\n",
    "\n",
    "def convert_to_grid(inputs: str) -> list[list[str]]:\n",
    "    return [[c for c in row] for row in inputs.splitlines()]\n",
    "\n",
    "def grid_shape(grid: list[list[str]]) -> tuple[int, int]:\n",
    "    return len(grid[0]), len(grid)\n",
    "\n",
    "def grid_to_str(grid: list[list[str]]) -> str:\n",
    "    return '\\n'.join([''.join(row) for row in grid])\n",
    "\n",
    "def search_antennas(grid: list[list[str]]) -> dict[str, list[tuple[int, int]]]:\n",
    "    x_max, y_max = grid_shape(grid)\n",
    "    antennas = {}\n",
    "    for x, y in product(range(x_max), range(y_max)):\n",
    "        char = grid[y][x]\n",
    "        if char != '.':\n",
    "            if char not in antennas.keys():\n",
    "                antennas[char] = []\n",
    "            # logger.debug(f\"Found {char} at {x}, {y}\")\n",
    "            antennas[char].append((x, y))\n",
    "    return antennas\n",
    "\n",
    "def distance(loc1: tuple[int, int], loc2: tuple[int, int]) -> int:\n",
    "    return loc1[0] - loc2[0], loc1[1] - loc2[1]"
   ]
  },
  {
   "cell_type": "code",
   "execution_count": 10,
   "metadata": {},
   "outputs": [],
   "source": [
    "def part_1_antinode_grid(grid: list[list[str]]) -> list[list[str]]:\n",
    "    x_max, y_max = grid_shape(grid)\n",
    "    antinode_grid = copy.deepcopy(grid)\n",
    "    antinode_locations = set()\n",
    "    antenna_locations = search_antennas(grid)\n",
    "\n",
    "    for frequency, locations in antenna_locations.items():\n",
    "        for a1, a2 in product(locations, locations):\n",
    "            if a1 != a2:\n",
    "                dx, dy = distance(a1, a2)\n",
    "                an_x, an_y = a1[0] + dx, a1[1] + dy\n",
    "                is_out_of_bounds = (\n",
    "                    an_x < 0 or \n",
    "                    an_x >= x_max or \n",
    "                    an_y < 0 or \n",
    "                    an_y >= y_max\n",
    "                )\n",
    "                if is_out_of_bounds:\n",
    "                    continue\n",
    "                antinode_grid[an_y][an_x] = '#'\n",
    "                antinode_locations.add((an_x, an_y))\n",
    "    return antinode_grid, antinode_locations"
   ]
  },
  {
   "cell_type": "code",
   "execution_count": 206,
   "metadata": {},
   "outputs": [
    {
     "name": "stdout",
     "output_type": "stream",
     "text": [
      "Part 1: 271\n"
     ]
    }
   ],
   "source": [
    "sample_grid = convert_to_grid(sample_input)\n",
    "sample_antinode_grid, sample_antinode_locations = part_1_antinode_grid(sample_grid)\n",
    "assert len(sample_antinode_locations) == 14\n",
    "part_1_grid = convert_to_grid(actual_input)\n",
    "part_1_antinode_grid, part_1_antinode_locations = part_1_antinode_grid(part_1_grid)\n",
    "print('Part 1:',len(part_1_antinode_locations))"
   ]
  },
  {
   "cell_type": "code",
   "execution_count": 38,
   "metadata": {},
   "outputs": [],
   "source": [
    "def part_2_antinode_grid(grid: list[list[str]]) -> list[list[str]]:\n",
    "    x_max, y_max = grid_shape(grid)\n",
    "    antinode_grid = copy.deepcopy(grid)\n",
    "    antinode_locations = set()\n",
    "    antenna_locations = search_antennas(grid)\n",
    "\n",
    "    for frequency, locations in antenna_locations.items():\n",
    "        for a1, a2 in product(locations, locations):\n",
    "            if a1 != a2:\n",
    "                dx, dy = distance(a1, a2)\n",
    "                multiplier = 1\n",
    "                is_out_of_bounds = False\n",
    "                while not is_out_of_bounds:\n",
    "                    an_x, an_y = a1[0] + (dx * multiplier), a1[1] + (dy * multiplier)\n",
    "                    is_out_of_bounds = (\n",
    "                        an_x < 0 or \n",
    "                        an_x >= x_max or \n",
    "                        an_y < 0 or \n",
    "                        an_y >= y_max\n",
    "                    )\n",
    "                    if is_out_of_bounds:\n",
    "                        break\n",
    "                    antinode_grid[an_y][an_x] = '#'\n",
    "                    antinode_locations.add((an_x, an_y))\n",
    "                    multiplier += 1\n",
    "    return antinode_grid, antinode_locations"
   ]
  },
  {
   "cell_type": "code",
   "execution_count": 52,
   "metadata": {},
   "outputs": [],
   "source": [
    "sample_grid = convert_to_grid(sample_input)\n",
    "sample_antinode_grid, sample_antinode_locations = part_1_antinode_grid(sample_grid)"
   ]
  },
  {
   "cell_type": "code",
   "execution_count": 49,
   "metadata": {},
   "outputs": [
    {
     "name": "stdout",
     "output_type": "stream",
     "text": [
      "......#....#\n",
      "...#....0...\n",
      "....#0....#.\n",
      "..#....0....\n",
      "....0....#..\n",
      ".#....#.....\n",
      "...#........\n",
      "#......#....\n",
      "........A...\n",
      ".........A..\n",
      "..........#.\n",
      "..........#.\n"
     ]
    }
   ],
   "source": [
    "print(grid_to_str(sample_antinode_grid))"
   ]
  },
  {
   "cell_type": "code",
   "execution_count": 46,
   "metadata": {},
   "outputs": [
    {
     "data": {
      "text/plain": [
       "[['.', '.', '.', '.', '.', '.', '.', '.', '.', '.', '.', '.'],\n",
       " ['.', '.', '.', '.', '.', '.', '.', '.', '0', '.', '.', '.'],\n",
       " ['.', '.', '.', '.', '.', '0', '.', '.', '.', '.', '.', '.'],\n",
       " ['.', '.', '.', '.', '.', '.', '.', '0', '.', '.', '.', '.'],\n",
       " ['.', '.', '.', '.', '0', '.', '.', '.', '.', '.', '.', '.'],\n",
       " ['.', '.', '.', '.', '.', '.', 'A', '.', '.', '.', '.', '.'],\n",
       " ['.', '.', '.', '.', '.', '.', '.', '.', '.', '.', '.', '.'],\n",
       " ['.', '.', '.', '.', '.', '.', '.', '.', '.', '.', '.', '.'],\n",
       " ['.', '.', '.', '.', '.', '.', '.', '.', 'A', '.', '.', '.'],\n",
       " ['.', '.', '.', '.', '.', '.', '.', '.', '.', 'A', '.', '.'],\n",
       " ['.', '.', '.', '.', '.', '.', '.', '.', '.', '.', '.', '.'],\n",
       " ['.', '.', '.', '.', '.', '.', '.', '.', '.', '.', '.', '.']]"
      ]
     },
     "execution_count": 46,
     "metadata": {},
     "output_type": "execute_result"
    }
   ],
   "source": [
    "sample_grid"
   ]
  },
  {
   "cell_type": "code",
   "execution_count": 43,
   "metadata": {},
   "outputs": [
    {
     "data": {
      "text/plain": [
       "14"
      ]
     },
     "execution_count": 43,
     "metadata": {},
     "output_type": "execute_result"
    }
   ],
   "source": [
    "len(sample_antinode_locations)"
   ]
  }
 ],
 "metadata": {
  "kernelspec": {
   "display_name": "aoc",
   "language": "python",
   "name": "python3"
  },
  "language_info": {
   "codemirror_mode": {
    "name": "ipython",
    "version": 3
   },
   "file_extension": ".py",
   "mimetype": "text/x-python",
   "name": "python",
   "nbconvert_exporter": "python",
   "pygments_lexer": "ipython3",
   "version": "3.10.15"
  }
 },
 "nbformat": 4,
 "nbformat_minor": 2
}
